{
 "cells": [
  {
   "cell_type": "code",
   "execution_count": 2,
   "metadata": {},
   "outputs": [
    {
     "name": "stdout",
     "output_type": "stream",
     "text": [
      "Collecting forex-python\n",
      "  Downloading forex-python-1.5.tar.gz (7.5 kB)\n",
      "Requirement already satisfied: requests in e:\\anaconda\\lib\\site-packages (from forex-python) (2.24.0)\n",
      "Collecting simplejson\n",
      "  Downloading simplejson-3.17.2.tar.gz (83 kB)\n",
      "Requirement already satisfied: urllib3!=1.25.0,!=1.25.1,<1.26,>=1.21.1 in e:\\anaconda\\lib\\site-packages (from requests->forex-python) (1.25.9)\n",
      "Requirement already satisfied: certifi>=2017.4.17 in e:\\anaconda\\lib\\site-packages (from requests->forex-python) (2020.6.20)\n",
      "Requirement already satisfied: chardet<4,>=3.0.2 in e:\\anaconda\\lib\\site-packages (from requests->forex-python) (3.0.4)\n",
      "Requirement already satisfied: idna<3,>=2.5 in e:\\anaconda\\lib\\site-packages (from requests->forex-python) (2.10)\n",
      "Building wheels for collected packages: forex-python, simplejson\n",
      "  Building wheel for forex-python (setup.py): started\n",
      "  Building wheel for forex-python (setup.py): finished with status 'done'\n",
      "  Created wheel for forex-python: filename=forex_python-1.5-py3-none-any.whl size=7240 sha256=07cad4ac7a9268b74fe11b1ec6a7a4554a02f4d188bf3007940606ce0a0d39e8\n",
      "  Stored in directory: c:\\users\\randrita s\\appdata\\local\\pip\\cache\\wheels\\2a\\ed\\cd\\27419d49a382d12b6beeaa9f7dfc4f1e7b5045e693c7247d6c\n",
      "  Building wheel for simplejson (setup.py): started\n",
      "  Building wheel for simplejson (setup.py): finished with status 'done'\n",
      "  Created wheel for simplejson: filename=simplejson-3.17.2-py3-none-any.whl size=55464 sha256=397fcc3c44ab3332d57c1d636e9984803c38707f30e0a68df1de756a9aaf8290\n",
      "  Stored in directory: c:\\users\\randrita s\\appdata\\local\\pip\\cache\\wheels\\17\\72\\7d\\df0984c925921e22322ea462a6f861e9d0617881192deb9b8d\n",
      "Successfully built forex-python simplejson\n",
      "Installing collected packages: simplejson, forex-python\n",
      "Successfully installed forex-python-1.5 simplejson-3.17.2\n",
      "Note: you may need to restart the kernel to use updated packages.\n"
     ]
    }
   ],
   "source": [
    "pip install forex-python\n"
   ]
  },
  {
   "cell_type": "code",
   "execution_count": 4,
   "metadata": {},
   "outputs": [],
   "source": [
    "from forex_python.converter import CurrencyRates"
   ]
  },
  {
   "cell_type": "code",
   "execution_count": 5,
   "metadata": {},
   "outputs": [],
   "source": [
    "c = CurrencyRates()"
   ]
  },
  {
   "cell_type": "code",
   "execution_count": 6,
   "metadata": {},
   "outputs": [
    {
     "data": {
      "text/plain": [
       "74.4554582904"
      ]
     },
     "execution_count": 6,
     "metadata": {},
     "output_type": "execute_result"
    }
   ],
   "source": [
    "c.get_rate('USD', 'INR')"
   ]
  },
  {
   "cell_type": "code",
   "execution_count": 7,
   "metadata": {},
   "outputs": [
    {
     "data": {
      "text/plain": [
       "744.554582904"
      ]
     },
     "execution_count": 7,
     "metadata": {},
     "output_type": "execute_result"
    }
   ],
   "source": [
    " c.convert('USD', 'INR', 10)"
   ]
  },
  {
   "cell_type": "code",
   "execution_count": 8,
   "metadata": {},
   "outputs": [
    {
     "data": {
      "text/plain": [
       "13665.3083"
      ]
     },
     "execution_count": 8,
     "metadata": {},
     "output_type": "execute_result"
    }
   ],
   "source": [
    "#current bitcoin price\n",
    "from forex_python.bitcoin import BtcConverter\n",
    "b = BtcConverter() \n",
    "b.get_latest_price('USD')"
   ]
  },
  {
   "cell_type": "code",
   "execution_count": 11,
   "metadata": {},
   "outputs": [],
   "source": [
    "from forex_python.converter import CurrencyCodes\n"
   ]
  },
  {
   "cell_type": "code",
   "execution_count": 13,
   "metadata": {},
   "outputs": [
    {
     "name": "stdout",
     "output_type": "stream",
     "text": [
      "£\n"
     ]
    }
   ],
   "source": [
    "c = CurrencyCodes()\n",
    "print (c.get_symbol('GBP'))\n"
   ]
  },
  {
   "cell_type": "code",
   "execution_count": null,
   "metadata": {},
   "outputs": [],
   "source": []
  }
 ],
 "metadata": {
  "kernelspec": {
   "display_name": "Python 3",
   "language": "python",
   "name": "python3"
  },
  "language_info": {
   "codemirror_mode": {
    "name": "ipython",
    "version": 3
   },
   "file_extension": ".py",
   "mimetype": "text/x-python",
   "name": "python",
   "nbconvert_exporter": "python",
   "pygments_lexer": "ipython3",
   "version": "3.8.3"
  }
 },
 "nbformat": 4,
 "nbformat_minor": 4
}
